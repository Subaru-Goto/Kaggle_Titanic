{
  "cells": [
    {
      "metadata": {
        "_uuid": "8f2839f25d086af736a60e9eeb907d3b93b6e0e5",
        "_cell_guid": "b1076dfc-b9ad-4769-8c92-a6c4dae69d19",
        "trusted": true
      },
      "cell_type": "code",
      "source": "# This Python 3 environment comes with many helpful analytics libraries installed\n# It is defined by the kaggle/python docker image: https://github.com/kaggle/docker-python\n# For example, here's several helpful packages to load in \n\nimport numpy as np # linear algebra\nimport pandas as pd # data processing, CSV file I/O (e.g. pd.read_csv)\nimport matplotlib.pyplot as plt\nimport seaborn as sns\n% matplotlib inline\n\n# Input data files are available in the \"../input/\" directory.\n# For example, running this (by clicking run or pressing Shift+Enter) will list the files in the input directory\n\nimport os\nprint(os.listdir(\"../input\"))\n\n# Any results you write to the current directory are saved as output.",
      "execution_count": null,
      "outputs": []
    },
    {
      "metadata": {
        "_cell_guid": "79c7e3d0-c299-4dcb-8224-4455121ee9b0",
        "_uuid": "d629ff2d2480ee46fbb7e2d37f6b5fab8052498a",
        "trusted": true
      },
      "cell_type": "code",
      "source": "# get test data\ndf_test = pd.read_csv(\"../input/test.csv\")\n\n# get train data\ndf_train = pd.read_csv(\"../input/train.csv\")\n\n# get gender submission\n\ndf_gender = pd.read_csv(\"../input/gender_submission.csv\")",
      "execution_count": null,
      "outputs": []
    },
    {
      "metadata": {
        "trusted": true,
        "_uuid": "54671c22cda7c7a7a3a884335ef7f6898a6bb7a4"
      },
      "cell_type": "code",
      "source": "# check df_train\ndf_train.sample(10)",
      "execution_count": null,
      "outputs": []
    },
    {
      "metadata": {
        "trusted": true,
        "_uuid": "1cdf09ccf53e45976e2e7811254097567c1d7b7e"
      },
      "cell_type": "code",
      "source": "# info\ndf_train.info()",
      "execution_count": null,
      "outputs": []
    },
    {
      "metadata": {
        "trusted": true,
        "_uuid": "dd979be0b20475960d6dc6f913f1c23216dfb5e8",
        "scrolled": false
      },
      "cell_type": "code",
      "source": "# summary statistic\ndf_train.describe()",
      "execution_count": null,
      "outputs": []
    },
    {
      "metadata": {
        "trusted": true,
        "_uuid": "4cd3d367d93a3bb1639d1b2a282cc024e7607051"
      },
      "cell_type": "code",
      "source": "# shape\ndf_train.shape",
      "execution_count": null,
      "outputs": []
    },
    {
      "metadata": {
        "trusted": true,
        "_uuid": "1a79bfee2c7db3f44f9083317c45a658378397b5",
        "scrolled": true
      },
      "cell_type": "code",
      "source": "# check duplication\ndf_train.duplicated().sum()",
      "execution_count": null,
      "outputs": []
    },
    {
      "metadata": {
        "trusted": true,
        "_uuid": "2efcc8164507d058f13d70440f90136fac41f433",
        "scrolled": true
      },
      "cell_type": "code",
      "source": "# check missing value\ndf_train.isna().sum()",
      "execution_count": null,
      "outputs": []
    },
    {
      "metadata": {
        "trusted": true,
        "_uuid": "154e17f089c1906996e1dc2d645e2533f3e06845"
      },
      "cell_type": "code",
      "source": "# hist\ndf_train_clean.hist(figsize=[7,8]);",
      "execution_count": null,
      "outputs": []
    },
    {
      "metadata": {
        "trusted": true,
        "_uuid": "3734dbabb02d37ea792b9dca09e3e318eefebc9c",
        "scrolled": false
      },
      "cell_type": "code",
      "source": "# check max fare as it seems outlier\ndf_train[\"Fare\"].sort_values(ascending = False).head()",
      "execution_count": null,
      "outputs": []
    },
    {
      "metadata": {
        "trusted": true,
        "scrolled": false,
        "_uuid": "c07afe5d021b1aa22437ea0e61646ca00bc432eb"
      },
      "cell_type": "code",
      "source": "# check from which class the outliers come\ndf_train[df_train[\"Fare\"] >500].Pclass",
      "execution_count": null,
      "outputs": []
    },
    {
      "metadata": {
        "_uuid": "a20d2fd01715c0ebd368f219012f932310affbdb"
      },
      "cell_type": "markdown",
      "source": "-  I will leave the outliers as they purchased 1 class thickets which should be expensive."
    },
    {
      "metadata": {
        "_uuid": "ac6c67804fc7f774dc7df0494507de4f7428cb5f"
      },
      "cell_type": "markdown",
      "source": "# Quality issue\n\n- passenger id is int data type\n- Pclass is int data type\n- sex is string\n- cabin is string\n- embark is string\n- missing value in Age, Embarked and especially Cabin\n\n\n# Tidiness issue\n- title is together with name\n"
    },
    {
      "metadata": {
        "_uuid": "689d29ff65ebb9c00c65700b2cadda8c9db2212c"
      },
      "cell_type": "markdown",
      "source": "## Missing value\n## Definition\n> Missing age data need to be filled. Check if there any coorelation between age and some features to decide how to fill in.p"
    },
    {
      "metadata": {
        "trusted": true,
        "scrolled": false,
        "_uuid": "ec43ac5458cdca88840b7844c86bf284f6fc8fdd"
      },
      "cell_type": "code",
      "source": "# plot age, fare and pclass\ng = sns.FacetGrid(data = df_train, hue = \"Pclass\", size = 5)\ng.map(plt.scatter, \"Age\", \"Fare\", alpha = 0.7)\ng.set(xlim =[0,90], ylim = [0, 200])\ng.add_legend()\nplt.title(\"Relationship among age, ticket fare and passenger class\");",
      "execution_count": null,
      "outputs": []
    },
    {
      "metadata": {
        "trusted": true,
        "scrolled": false,
        "_uuid": "a826cd480fbf0cc217141669d349b5384c8f44ca"
      },
      "cell_type": "code",
      "source": "# check how many missing age in each Pclass\ndf_train[df_train.Age.isnull()].Pclass.value_counts()",
      "execution_count": null,
      "outputs": []
    },
    {
      "metadata": {
        "trusted": true,
        "_uuid": "53fb88fd7e220a0cfbb9dfd2c30cff44d0381449"
      },
      "cell_type": "code",
      "source": "# visualize with a SD line\nsns.barplot(data = df_train, x = \"Pclass\", y = \"Age\", ci = \"sd\")",
      "execution_count": null,
      "outputs": []
    },
    {
      "metadata": {
        "trusted": true,
        "scrolled": true,
        "_uuid": "fc6cfe7865f0e0e853686fa03c4c473e060006b6"
      },
      "cell_type": "code",
      "source": "# check distribution\nsns.boxplot(data = df_train, x = \"Pclass\", y = \"Age\")",
      "execution_count": null,
      "outputs": []
    },
    {
      "metadata": {
        "_uuid": "bef0cb943829acda37f876704798c7d24463adf7"
      },
      "cell_type": "markdown",
      "source": "> I will take a mean of age in each Pclass and replace respectively."
    },
    {
      "metadata": {
        "trusted": true,
        "_uuid": "18f16b2efe51b337623e20f569133a9a012918d8",
        "scrolled": true
      },
      "cell_type": "code",
      "source": "# get mean for each Pclass\nfirst_mean, second_mean,third_mean = df_train.groupby(\"Pclass\").Age.mean()",
      "execution_count": null,
      "outputs": []
    },
    {
      "metadata": {
        "trusted": true,
        "scrolled": true,
        "_uuid": "1011d6f203d5d3e89a1c87295a2ebcf067626dfe"
      },
      "cell_type": "markdown",
      "source": "# replace nan with respective mean\ndf_train.Age = df_train.loc[df_train[\"Pclass\"] == 1, \"Age\"].fillna(first_mean, inplace = True)\ndf_train.Age = df_train.loc[df_train[\"Pclass\"] == 2, \"Age\"].fillna(second_mean, inplace = True)\ndf_train.Age = df_train.loc[df_train[\"Pclass\"] == 3, \"Age\"].fillna(third_mean, inplace = True)"
    },
    {
      "metadata": {
        "trusted": true,
        "_uuid": "02c7c4c563fd4f578570d2c7c1aa504fe30126f0"
      },
      "cell_type": "code",
      "source": "# replace na with respective mean\nage_na_1 = df_train[(df_train[\"Pclass\"]== 1) & (df_train[\"Age\"].isna())].index\ndf_train.loc[age_na_1,\"Age\"] = first_mean\n\nage_na_2 = df_train[(df_train[\"Pclass\"]== 2) & (df_train[\"Age\"].isna())].index\ndf_train.loc[age_na_2,\"Age\"] = second_mean\n\nage_na_3 = df_train[(df_train[\"Pclass\"]== 3) & (df_train[\"Age\"].isna())].index\ndf_train.loc[age_na_3,\"Age\"] = third_mean\n",
      "execution_count": null,
      "outputs": []
    },
    {
      "metadata": {
        "_uuid": "e3a05e76b69e4139567e3be2c3697bde5536832c"
      },
      "cell_type": "markdown",
      "source": "> ## Test"
    },
    {
      "metadata": {
        "trusted": true,
        "scrolled": true,
        "_uuid": "e49f3291284f867b34a57741eee160572a537efe"
      },
      "cell_type": "code",
      "source": "# check results\ndf_train.info()",
      "execution_count": null,
      "outputs": []
    },
    {
      "metadata": {
        "_uuid": "731b0970fff9529892da432b5fee44272c5e7481"
      },
      "cell_type": "markdown",
      "source": "## Definition\n\nfill in missing values in the Embarked column.\n* Port of Embarkation (C = Cherbourg; Q = Queenstown; S = Southampton)"
    },
    {
      "metadata": {
        "trusted": true,
        "scrolled": true,
        "_uuid": "875b9cf7b011e2b64c605f76e76a62cfb6be5e57"
      },
      "cell_type": "code",
      "source": "# check \ndf_train[df_train[\"Embarked\"].isna()]",
      "execution_count": null,
      "outputs": []
    },
    {
      "metadata": {
        "trusted": true,
        "_uuid": "d6ad6a7b5542c552e40b79e4dad4d23ff08eead2",
        "scrolled": true
      },
      "cell_type": "code",
      "source": "# check frequency\nsns.countplot(data = df_train, x = \"Embarked\", hue = \"Pclass\")",
      "execution_count": null,
      "outputs": []
    },
    {
      "metadata": {
        "trusted": true,
        "_uuid": "b4d6463d751899e7f22e635bd9fd8a6d7fdcc47c"
      },
      "cell_type": "code",
      "source": "# replace with the most frequent one which is S\nembarked_na = df_train[df_train[\"Embarked\"].isna()].index\ndf_train.loc[embarked_na, \"Embarked\"] = \"S\"",
      "execution_count": null,
      "outputs": []
    },
    {
      "metadata": {
        "trusted": true,
        "_uuid": "faba88b44e381388dd894c10bbc246ba7e8832c2"
      },
      "cell_type": "markdown",
      "source": "## Test"
    },
    {
      "metadata": {
        "trusted": true,
        "scrolled": true,
        "_uuid": "454f386fbb6f2ce3c001be0af42e2df8dffc37a0"
      },
      "cell_type": "code",
      "source": "# check\ndf_train.info()",
      "execution_count": null,
      "outputs": []
    },
    {
      "metadata": {
        "trusted": true,
        "_uuid": "7dac5582f4d20fb439b1629cbcacadc16e8d98bf"
      },
      "cell_type": "code",
      "source": "",
      "execution_count": null,
      "outputs": []
    },
    {
      "metadata": {
        "trusted": true,
        "_uuid": "5495f5d7519af3472d52e4c3b536a0bac808e4a2"
      },
      "cell_type": "code",
      "source": "",
      "execution_count": null,
      "outputs": []
    },
    {
      "metadata": {
        "trusted": true,
        "_uuid": "048cd022dfcf5c7708bbf414b91e7bda5934dc62"
      },
      "cell_type": "code",
      "source": "",
      "execution_count": null,
      "outputs": []
    },
    {
      "metadata": {
        "trusted": true,
        "scrolled": false,
        "_uuid": "7dd4d8238e85228bbf58cad9dbe584df633ac6cb"
      },
      "cell_type": "code",
      "source": "# check corralation NUMERICAL\nsns.heatmap(df_train[[\"Survived\",\"SibSp\", \"Parch\",\"Fare\",\"Pclass\",\"Age\"]].corr(), annot = True);",
      "execution_count": null,
      "outputs": []
    },
    {
      "metadata": {
        "_uuid": "0472c0c53ae03fcfd71c727c230bfe706d41335c"
      },
      "cell_type": "markdown",
      "source": "- Pclass & Survived, Fare & Survived, Pclass & Fare seem to have some correlations."
    },
    {
      "metadata": {
        "trusted": true,
        "scrolled": false,
        "_uuid": "56322ecce933e3f57dd40ce86081be83a522ac4a"
      },
      "cell_type": "code",
      "source": "# plot\nplt.figure(figsize = [20,5])\nplt.subplot(1,2,1)\nsns.violinplot(data = df_train, x = \"Pclass\", y = \"Fare\", inner = \"quartile\")\n# set y lim to max 200 as there are outliers\nplt.ylim(0,200)\nplt.title(\"Ticket price and passenger class\")\n\n# plpot2\nplt.subplot(1,2,2)\nsns.barplot(data = df_train, x = \"Pclass\", y = \"Survived\" )\nplt.title(\"Survival posibility and passenger class\");\n",
      "execution_count": null,
      "outputs": []
    },
    {
      "metadata": {
        "trusted": true,
        "_uuid": "8d4c35f7993832a2ec9af9d27e4e5335d91ba6b6"
      },
      "cell_type": "code",
      "source": "",
      "execution_count": null,
      "outputs": []
    },
    {
      "metadata": {
        "_uuid": "d23a052c4a133b06d3b7c0c7184ade9428a00c71"
      },
      "cell_type": "markdown",
      "source": "\n"
    },
    {
      "metadata": {
        "_uuid": "81c9f1efa5502588a84b32a4c5fb97b859c95239"
      },
      "cell_type": "markdown",
      "source": "# Clean\n\n## Definition\nTitles and name are in the same column. A new title column is created through a split function \",\" and \" \". "
    },
    {
      "metadata": {
        "trusted": true,
        "_uuid": "61a31fb41a0c3928df56d5fdae2f8d01c9f3de5c"
      },
      "cell_type": "code",
      "source": "# create a copy\ndf_train_clean = df_train.copy()",
      "execution_count": null,
      "outputs": []
    },
    {
      "metadata": {
        "trusted": true,
        "_uuid": "4e8dc22ae1c9f68ce683fa2327ebbd2d6466edf6"
      },
      "cell_type": "code",
      "source": "",
      "execution_count": null,
      "outputs": []
    },
    {
      "metadata": {
        "trusted": true,
        "_uuid": "1cc615e5e5e841cd4ddbf58ec63a8185143c01eb"
      },
      "cell_type": "code",
      "source": "",
      "execution_count": null,
      "outputs": []
    },
    {
      "metadata": {
        "trusted": true,
        "_uuid": "f03615491a13c9f44c0c37fcc3a70ce7e8b530ef"
      },
      "cell_type": "code",
      "source": "",
      "execution_count": null,
      "outputs": []
    },
    {
      "metadata": {
        "trusted": true,
        "_uuid": "eddcc7de47d0db04fbfe07740620f2985c01a4e8"
      },
      "cell_type": "code",
      "source": "",
      "execution_count": null,
      "outputs": []
    },
    {
      "metadata": {
        "trusted": true,
        "_uuid": "9978777c59daf7aff3d0e1a8a999ce11c4c24e98"
      },
      "cell_type": "code",
      "source": "",
      "execution_count": null,
      "outputs": []
    },
    {
      "metadata": {
        "trusted": true,
        "_uuid": "74aa2c78a797d3607c7ab6c5e7b6f60ff49c99a5"
      },
      "cell_type": "code",
      "source": "",
      "execution_count": null,
      "outputs": []
    },
    {
      "metadata": {
        "trusted": true,
        "_uuid": "e1347563bf6286dbb8d1776357c92819ffe6b333"
      },
      "cell_type": "code",
      "source": "",
      "execution_count": null,
      "outputs": []
    },
    {
      "metadata": {
        "trusted": true,
        "_uuid": "ee64b27fae5d41e3da2d3b8571b857af2961fec6"
      },
      "cell_type": "code",
      "source": "",
      "execution_count": null,
      "outputs": []
    },
    {
      "metadata": {
        "trusted": true,
        "_uuid": "341bd4301bf16f141b784b8434132a15c42c0f52"
      },
      "cell_type": "code",
      "source": "# extract titles\ndf_train_clean[\"Title\"] = df_train_clean[\"Name\"].str.split(\",\").str[1].str.split(\".\").str[0].str.strip()",
      "execution_count": null,
      "outputs": []
    },
    {
      "metadata": {
        "trusted": true,
        "_uuid": "26caa5c8959457435a56de5bc173ae36bc23215a"
      },
      "cell_type": "code",
      "source": "# check unique titles\ndf_train_clean.Title.unique()",
      "execution_count": null,
      "outputs": []
    },
    {
      "metadata": {
        "trusted": true,
        "_uuid": "6d7b3f3900e067735810ef0c74f7f700a73782c3",
        "scrolled": true
      },
      "cell_type": "code",
      "source": "# check unique titles\ndf_train_clean.Title.value_counts()",
      "execution_count": null,
      "outputs": []
    },
    {
      "metadata": {
        "_uuid": "dd0f6a329e2e080d152242333dcdba3e2129d61c"
      },
      "cell_type": "markdown",
      "source": "- Mr. = title for men   ----> man\n- Miss. = title for unmarried women ----> woman\n- Mrs. = title for married or widowed women ---> woman\n- Master. = honorific for boys and young men ---> special\n- Dr. = academic title ---> Special\n- Rev. = The Reverend is an honorific style most often placed before the names of Christian clergy and ministers.(https://en.wikipedia.org/wiki/The_Reverend) ---> special\n- Col. = honorary title Colonel ---> special\n- Major. = military rank ----> military\n- Mlle. = Mademoiselle is a French familiar title, abbreviated Mlle, traditionally given to an unmarried woman. (wikipedia) ---> woman\n- Capt. = title for the commander of a military unit ---> military\n- Ms. = title for unmarried or unknown status women ---> woman\n- Sir. = The title of \"Sir\" is given to anyone awarded knighthood by the Queen or a member of the royal family (https://www.reference.com/world-view/title-sir-given-934711913b5cc171) ---> special\n- Countess. = Countess is the Title taken by the wife of an Earl or Count ---> special\n- Lady. = The honorific prefix of \"Lady\" is used for the daughters of dukes, marquesses and earls. (wikipedia) ---> special\n- Jonkheer = honorific in the Low Countries denoting the lowest rank within the nobility (wikipedia) ---> special\n- Don. = an honorific prefix primarly used in Italy, Spain, Portugal, Latin America, and the Philippines. (wikipedia) ---> special\n- Mme. = Madam in French ---> woman\n\n- Man, Woman, Military and honorific??\n\n\n\n\n\n\n\n\n\n"
    },
    {
      "metadata": {
        "trusted": true,
        "_uuid": "131dd843d4d205f5df87982eaacf8f013128b347"
      },
      "cell_type": "code",
      "source": "# replace titles\n# man, woman, military and special\ndf_train_clean[\"Title\"].replace({\"Mr\":\"man\",\n                                \"Miss\":\"woman\",\n                                \"Mrs\":\"woman\",\n                                \"Master\":\"special\",\n                                \"Dr\":\"special\",\n                                \"Rev\":\"special\",\n                                 \"Mlle\":\"woman\",\n                                \"Col\":\"special\",\n                                \"Major\":\"special\",\n                                \"Sir\":\"special\",\n                                 \"Mme\":\"woman\",\n                                 \"Ms\":\"woman\",\n                                 \"Capt\":\"special\",\n                                 \"Don\":\"special\",\n                                 \"Lady\":\"special\",\n                                 \"Jonkheer\":\"special\",\n                                 \"the Countess\":\"special\"\n                                },\n                                 inplace = True)",
      "execution_count": null,
      "outputs": []
    },
    {
      "metadata": {
        "trusted": true,
        "scrolled": true,
        "_uuid": "e7e981bccc44b35c4702b2e4e745e770c6974ff5"
      },
      "cell_type": "code",
      "source": "# check group mean\ndf_train_clean.groupby(\"Title\").mean().Survived",
      "execution_count": null,
      "outputs": []
    },
    {
      "metadata": {
        "trusted": true,
        "scrolled": true,
        "_uuid": "4fb49b8111120e218227ad94467a07320252dab6"
      },
      "cell_type": "code",
      "source": "sns.countplot(data = df_train_clean, x = \"Title\", hue = \"Survived\")\n",
      "execution_count": null,
      "outputs": []
    },
    {
      "metadata": {
        "trusted": true,
        "_uuid": "fd078e332fa0c4f5b65de74279f0759f033b763e"
      },
      "cell_type": "markdown",
      "source": "# Test"
    },
    {
      "metadata": {
        "trusted": true,
        "_uuid": "4ac67c9977a03b33ee9fa218960d34bf0b2e6c7c"
      },
      "cell_type": "code",
      "source": "# check\ndf_train_clean.sample(10)",
      "execution_count": null,
      "outputs": []
    },
    {
      "metadata": {
        "trusted": true,
        "_uuid": "c425f99048bb1d289847617181129b05ea7ac492"
      },
      "cell_type": "code",
      "source": "",
      "execution_count": null,
      "outputs": []
    },
    {
      "metadata": {
        "trusted": true,
        "_uuid": "555fcd696287af98df4871693e28602890ee2a47"
      },
      "cell_type": "code",
      "source": "",
      "execution_count": null,
      "outputs": []
    },
    {
      "metadata": {
        "trusted": true,
        "_uuid": "5c1edd4d4ec735cbf23491bd3f61819f35631e58",
        "scrolled": false
      },
      "cell_type": "code",
      "source": "# heat map\ncorr = df_train_clean.corr()\n\nplt.figure(figsize=[10,7])\nsns.heatmap(corr, annot = True, fmt = \".2f\",cmap = \"YlGnBu_r\")",
      "execution_count": null,
      "outputs": []
    },
    {
      "metadata": {
        "_uuid": "d59f238417e4b7cc820a5097ca0d300b2385c446"
      },
      "cell_type": "markdown",
      "source": "Correlationb\n- Pclass and Fare\n- Age and Pclass\n- Survived and Pclass\n- Survived and age\n- Survived and Fare"
    },
    {
      "metadata": {
        "trusted": true,
        "_uuid": "dbfe322ac89f05e17fba40dec5230a4db6c68edd",
        "scrolled": false
      },
      "cell_type": "code",
      "source": "",
      "execution_count": null,
      "outputs": []
    },
    {
      "metadata": {
        "trusted": true,
        "scrolled": true,
        "_uuid": "cdc2292b6f36d9bfbd7168b9a808005db0612da0"
      },
      "cell_type": "code",
      "source": "# check survival ratio for classes\nsns.countplot(data = df_train_clean, x = df_train[\"Pclass\"],hue = \"Survived\")",
      "execution_count": null,
      "outputs": []
    },
    {
      "metadata": {
        "trusted": true,
        "_uuid": "108621e31d4bafc4ab3c9a7f12c918442e3e9ba9"
      },
      "cell_type": "code",
      "source": "\ng = sns.catplot(data = df_train_clean, x = \"Pclass\",col = \"Survived\", kind = \"count\", hue = \"Sex\" )",
      "execution_count": null,
      "outputs": []
    },
    {
      "metadata": {
        "trusted": true,
        "_uuid": "38e72bfb6e6c91fb7495d35069754b3f453cce11"
      },
      "cell_type": "code",
      "source": "",
      "execution_count": null,
      "outputs": []
    },
    {
      "metadata": {
        "trusted": true,
        "_uuid": "03a4aba42d0d42541cb11b0c6334c059ac675a13"
      },
      "cell_type": "code",
      "source": "",
      "execution_count": null,
      "outputs": []
    }
  ],
  "metadata": {
    "kernelspec": {
      "display_name": "Python 3",
      "language": "python",
      "name": "python3"
    },
    "language_info": {
      "name": "python",
      "version": "3.6.6",
      "mimetype": "text/x-python",
      "codemirror_mode": {
        "name": "ipython",
        "version": 3
      },
      "pygments_lexer": "ipython3",
      "nbconvert_exporter": "python",
      "file_extension": ".py"
    }
  },
  "nbformat": 4,
  "nbformat_minor": 1
}